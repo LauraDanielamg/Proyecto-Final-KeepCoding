{
 "cells": [
  {
   "cell_type": "code",
   "execution_count": 1,
   "metadata": {
    "collapsed": true
   },
   "outputs": [],
   "source": [
    "import pandas as pd\n",
    "import numpy as np"
   ]
  },
  {
   "cell_type": "code",
   "execution_count": 2,
   "metadata": {},
   "outputs": [],
   "source": [
    "raw_file = '~/Desktop/Proyecto-Final-KeepCoding/raw/airbnb-listings.csv'\n",
    "cleaned_file = '~/Desktop/Proyecto-Final-KeepCoding/raw/airbnb-listings_cleaned.csv'\n",
    "df = pd.read_csv(raw_file, delimiter=\";\", low_memory=False)"
   ]
  },
  {
   "cell_type": "markdown",
   "metadata": {},
   "source": [
    "# Filtrar resultados de Madrid"
   ]
  },
  {
   "cell_type": "code",
   "execution_count": 3,
   "metadata": {},
   "outputs": [],
   "source": [
    "madrid_condition = df['State'].astype(str).str.contains('Madrid')\n",
    "df = df[madrid_condition]"
   ]
  },
  {
   "cell_type": "markdown",
   "metadata": {},
   "source": [
    "# Limpieza de columnas"
   ]
  },
  {
   "cell_type": "code",
   "execution_count": null,
   "metadata": {},
   "outputs": [],
   "source": [
    "columns_to_keep = ['ID', 'Host ID', 'Host Since', 'Street', 'Neighbourhood', 'Neighbourhood Cleansed', 'City', 'State', 'Zipcode', 'Latitude', 'Longitude', \\\n",
    "                   'Amenities', 'Property Type', 'Room Type', 'Bathrooms', 'Bedrooms', 'Beds', 'Bed Type', 'Square Feet', 'Price', 'Cleaning Fee', \\\n",
    "                   'Availability 365', 'Review Scores Location', 'Cancellation Policy', 'Accommodates', 'Reviews per Month', 'Minimum Nights', 'Price', 'Monthly Price', 'Weekly Price']\n",
    "df = df[columns_to_keep]\n",
    "\n",
    "print(df.columns)"
   ]
  },
  {
   "cell_type": "markdown",
   "metadata": {},
   "source": [
    "# Normalización del código postal"
   ]
  },
  {
   "cell_type": "code",
   "execution_count": null,
   "metadata": {},
   "outputs": [],
   "source": [
    "replace_values = {'nan': np.nan, '-': np.nan, '28': np.nan, '-' : np.nan, '2802\\n28012' : '28012', '28002\\n28002': '28002', '28051\\n28051' : '28051', \\\n",
    "                  'Madrid 28004': '28004', '2815' : '28015', '2805' : '28005'}\n",
    "\n",
    "df = df.replace({'Zipcode': replace_values})"
   ]
  },
  {
   "cell_type": "markdown",
   "metadata": {},
   "source": [
    "# Conversión del ID de la entrada en numérico en vez de string"
   ]
  },
  {
   "cell_type": "code",
   "execution_count": null,
   "metadata": {},
   "outputs": [],
   "source": [
    "df['ID'].astype(int)"
   ]
  },
  {
   "cell_type": "markdown",
   "metadata": {},
   "source": [
    "# Conversión de las fechas de 'Host Since' en date"
   ]
  },
  {
   "cell_type": "code",
   "execution_count": null,
   "metadata": {},
   "outputs": [],
   "source": [
    "host_since = df['Host Since']\n",
    "host_since = list(map(pd.to_datetime, host_since))\n",
    "df['Host Since'] = host_since"
   ]
  },
  {
   "cell_type": "markdown",
   "metadata": {},
   "source": [
    "# Limpio bien los nombres de los barrios: me quedo con los valores de 'Neighbourhood' excepto en el caso de los nulls que los sustituyo por el valor de 'Neighbourhood Cleansed'"
   ]
  },
  {
   "cell_type": "code",
   "execution_count": null,
   "metadata": {},
   "outputs": [],
   "source": [
    "df['Neighbourhood'].isna().value_counts()\n",
    "\n",
    "df['Neighbourhood'] = df['Neighbourhood'].fillna(df['Neighbourhood Cleansed'])\n",
    "df = df.drop('Neighbourhood Cleansed', axis = 1)\n",
    "\n",
    "df['Neighbourhood'].isna().value_counts()"
   ]
  },
  {
   "cell_type": "markdown",
   "metadata": {},
   "source": [
    "# Property Type\n",
    "## Agrupar los 'Property Type' por los que interesan u otros"
   ]
  },
  {
   "cell_type": "code",
   "execution_count": null,
   "metadata": {},
   "outputs": [],
   "source": [
    "valid_property_types = ['House', 'Apartment', 'Bed & Breakfast', 'Condominium', 'Loft', 'Chalet', 'Hostal']\n",
    "\n",
    "property_types = df['Property Type']\n",
    "property_types = property_types.map(lambda value: value if value in valid_property_types else 'Other')\n",
    "df['Property Type'] = property_types\n",
    "\n",
    "df['Property Type'].value_counts()"
   ]
  },
  {
   "cell_type": "markdown",
   "source": [
    "# Amenities"
   ],
   "metadata": {
    "collapsed": false
   }
  },
  {
   "cell_type": "code",
   "execution_count": null,
   "metadata": {},
   "outputs": [],
   "source": [
    "amenities_df = df['Amenities'].map(lambda value: str(value or ''))\n",
    "valid_amenities = ['TV', 'Internet', 'Kitchen']\n",
    "\n",
    "for index, amenities in enumerate(amenities_df):\n",
    "    amenities = amenities.split(',')\n",
    "    amenities = filter(lambda value: value in valid_amenities, amenities)\n",
    "    for amenitie in amenities:\n",
    "        if amenitie not in valid_amenities:\n",
    "            continue\n",
    "        if amenitie not in df.columns:\n",
    "            df[amenitie] = False\n",
    "        df.loc[index, amenitie] = True\n",
    "        df.loc[index, 'Amenities Count'] = len(list(amenities))\n",
    "\n",
    "df[valid_amenities]"
   ]
  },
  {
   "cell_type": "markdown",
   "source": [
    "# Maxs and function"
   ],
   "metadata": {
    "collapsed": false
   }
  },
  {
   "cell_type": "code",
   "execution_count": null,
   "outputs": [],
   "source": [
    "max_bathrooms = 3\n",
    "max_bedrooms = 3\n",
    "max_beds = 7\n",
    "\n",
    "def format_max(max_value):\n",
    "    return lambda value: str(value) if value < max_value else f'{max_value}+'\n",
    "\n",
    "def calculate_ocupacy(reviews_month, min_nights, availability):\n",
    "    return reviews_month * min_nights * 12 / 365"
   ],
   "metadata": {
    "collapsed": false
   }
  },
  {
   "cell_type": "markdown",
   "source": [
    "# Bathrooms"
   ],
   "metadata": {
    "collapsed": false
   }
  },
  {
   "cell_type": "code",
   "execution_count": null,
   "metadata": {},
   "outputs": [],
   "source": [
    "bathrooms = df['Bathrooms']\n",
    "bathrooms = bathrooms.map(format_max(max_bathrooms))\n",
    "df['Bathrooms'] = bathrooms"
   ]
  },
  {
   "cell_type": "code",
   "execution_count": null,
   "outputs": [],
   "source": [
    "df['Bathrooms'].value_counts().sort_index().plot()"
   ],
   "metadata": {
    "collapsed": false
   }
  },
  {
   "cell_type": "markdown",
   "source": [
    "# Bedrooms"
   ],
   "metadata": {
    "collapsed": false
   }
  },
  {
   "cell_type": "code",
   "execution_count": null,
   "outputs": [],
   "source": [
    "bedrooms = df['Bedrooms']\n",
    "bedrooms = bedrooms.map(format_max(max_bedrooms))\n",
    "df['Bedrooms'] = bedrooms"
   ],
   "metadata": {
    "collapsed": false
   }
  },
  {
   "cell_type": "code",
   "execution_count": null,
   "outputs": [],
   "source": [
    "df['Bedrooms'].value_counts().sort_index().plot()"
   ],
   "metadata": {
    "collapsed": false
   }
  },
  {
   "cell_type": "markdown",
   "source": [
    "# Beds"
   ],
   "metadata": {
    "collapsed": false
   }
  },
  {
   "cell_type": "code",
   "execution_count": null,
   "outputs": [],
   "source": [
    "beds = df['Beds']\n",
    "beds = beds.map(format_max(max_beds))\n",
    "df['Beds'] = beds"
   ],
   "metadata": {
    "collapsed": false
   }
  },
  {
   "cell_type": "code",
   "execution_count": null,
   "outputs": [],
   "source": [
    "df['Beds'].value_counts().sort_index().plot()"
   ],
   "metadata": {
    "collapsed": false
   }
  },
  {
   "cell_type": "markdown",
   "source": [
    "# https://medium.datadriveninvestor.com/airbnb-listings-analysis-in-toronto-october-2018-2a5358bae007\n",
    "# Ocupacy"
   ],
   "metadata": {
    "collapsed": false
   }
  },
  {
   "cell_type": "code",
   "execution_count": null,
   "outputs": [],
   "source": [
    "availability = df['Availability 365'].fillna(0)\n",
    "df['Ocupacy'] = calculate_ocupacy(df['Reviews per Month'], df['Minimum Nights'], df['Availability 365'])\n",
    "\n",
    "steps = np.arange(0, 1.01, 0.1)\n",
    "groups = pd.cut(df['Ocupacy'], steps)\n",
    "df.groupby(groups).size().plot()"
   ],
   "metadata": {
    "collapsed": false
   }
  },
  {
   "cell_type": "markdown",
   "source": [
    "# Cleaning Fee"
   ],
   "metadata": {
    "collapsed": false
   }
  },
  {
   "cell_type": "code",
   "execution_count": null,
   "outputs": [],
   "source": [
    "df['Cleaning Fee'] = df['Cleaning Fee'].fillna(0)\n",
    "df['Cleaning Fee'].value_counts()\n",
    "\n",
    "steps = 10\n",
    "stept = df['Cleaning Fee'].max() / steps\n",
    "steps = np.arange(0, df['Cleaning Fee'].max(), stept)\n",
    "groups = pd.cut(df['Cleaning Fee'], steps)\n",
    "df.groupby(groups).size().plot()"
   ],
   "metadata": {
    "collapsed": false
   }
  },
  {
   "cell_type": "code",
   "execution_count": null,
   "outputs": [],
   "source": [
    "df['Cleaning Fee'].value_counts().sort_index().plot()"
   ],
   "metadata": {
    "collapsed": false
   }
  },
  {
   "cell_type": "code",
   "execution_count": null,
   "outputs": [],
   "source": [
    "average_price = df.groupby('Neighbourhood')"
   ],
   "metadata": {
    "collapsed": false
   }
  }
 ],
 "metadata": {
  "kernelspec": {
   "display_name": "Python 3 (ipykernel)",
   "language": "python",
   "name": "python3"
  },
  "language_info": {
   "codemirror_mode": {
    "name": "ipython",
    "version": 3
   },
   "file_extension": ".py",
   "mimetype": "text/x-python",
   "name": "python",
   "nbconvert_exporter": "python",
   "pygments_lexer": "ipython3",
   "version": "3.9.15"
  }
 },
 "nbformat": 4,
 "nbformat_minor": 1
}
